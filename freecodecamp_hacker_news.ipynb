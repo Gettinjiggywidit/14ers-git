{
  "nbformat": 4,
  "nbformat_minor": 0,
  "metadata": {
    "colab": {
      "name": "freecodecamp_hacker_news.ipynb",
      "provenance": [],
      "authorship_tag": "ABX9TyP8F4QS3foJfNZZyxXypqg+",
      "include_colab_link": true
    },
    "kernelspec": {
      "name": "python3",
      "display_name": "Python 3"
    },
    "language_info": {
      "name": "python"
    }
  },
  "cells": [
    {
      "cell_type": "markdown",
      "metadata": {
        "id": "view-in-github",
        "colab_type": "text"
      },
      "source": [
        "<a href=\"https://colab.research.google.com/github/Gettinjiggywidit/14ers-git/blob/main/freecodecamp_hacker_news.ipynb\" target=\"_parent\"><img src=\"https://colab.research.google.com/assets/colab-badge.svg\" alt=\"Open In Colab\"/></a>"
      ]
    },
    {
      "cell_type": "markdown",
      "metadata": {
        "id": "_vFU66bmFaeR"
      },
      "source": [
        "Source: https://www.freecodecamp.org/news/how-to-automate-things-using-python/"
      ]
    },
    {
      "cell_type": "code",
      "metadata": {
        "colab": {
          "base_uri": "https://localhost:8080/"
        },
        "id": "TReMQutw1aEW",
        "outputId": "2438e569-8f50-4e25-b61e-6f8ef75c5ff0"
      },
      "source": [
        "import requests # http requests\n",
        "from bs4 import BeautifulSoup # web-scraping\n",
        "import smtplib # send the mail\n",
        "from email.mime.multipart import MIMEMultipart # email body\n",
        "from email.mime.text import MIMEText # email body\n",
        "import datetime # system date and time manipulation\n",
        "now = datetime.datetime.now()\n",
        "content ='' # email content placeholder; an empty string; a date object\n",
        "print(now)"
      ],
      "execution_count": null,
      "outputs": [
        {
          "output_type": "stream",
          "name": "stdout",
          "text": [
            "2021-10-03 15:13:37.712129\n"
          ]
        }
      ]
    },
    {
      "cell_type": "code",
      "metadata": {
        "colab": {
          "base_uri": "https://localhost:8080/"
        },
        "id": "LQx0rYZ3C-pE",
        "outputId": "3b9888b8-3b85-432e-bb99-b4faddc5931e"
      },
      "source": [
        "def extract_news(url):\n",
        "  print('Extracting news stories ...')\n",
        "  cnt=''\n",
        "  cnt += ('<b> HN Top Stories;</b>\\n'+'<br>'+' - '*50+'<br>')\n",
        "  response = requests.get(url)\n",
        "  content=response.content\n",
        "  soup=BeautifulSoup(content,'html.parser')\n",
        "  for i, tag in enumerate(soup.find_all('td', attrs={'class':'title','valign':''})):\n",
        "    cnt+=((str(i+1)+ ') ' + tag.text + \"\\n\" + '<br>') if tag.text != 'More' else '')\n",
        "    # print(tage.prettify) # find all('span',attrs={'class':'sitestr'}))\n",
        "  return(cnt)\n",
        "\n",
        "cnt = extract_news('https://news.ycombinator.com/') # https://news.ycombinator.com/\n",
        "content += cnt\n",
        "content += ('<br>-----<br>')\n",
        "content += ('<br><br>End of Message')\n",
        "# print(content)"
      ],
      "execution_count": null,
      "outputs": [
        {
          "output_type": "stream",
          "name": "stdout",
          "text": [
            "Extracting news stories ...\n"
          ]
        }
      ]
    },
    {
      "cell_type": "code",
      "metadata": {
        "colab": {
          "base_uri": "https://localhost:8080/"
        },
        "id": "QdbWcecc1xa6",
        "outputId": "b5371b7f-62e4-4fdd-b745-84d129a6fc58"
      },
      "source": [
        "# Sending the email\n",
        "# Source: https://developers.google.com/gmail/api/guides/sending#python_1\n",
        "print(\"Composing email ...\")\n",
        "\n",
        "# Update the email details\n",
        "# For email authentication there are five parameters to be filled\n",
        "SERVER = 'smtp.gmail.com' # your smtp server\n",
        "PORT = 587 # default outgoing mail (SMTP) serverfor TLS/STARTTLS\n",
        "FROM = 'randomnarf@gmail.com' # your email ID\n",
        "PASS = '' # sender's (FROM) email ID password\n",
        "TO = 'hiltonnetta@gmail.com' # your email recipients; can be a (Python) list\n",
        "SUBJECT = 'Top News Stories Hacker News (Automated Email)' + ' ' + str(now.day) + '-' + str(now.month) + '-' + str(now.year)\n",
        "\n",
        "# fp = open(file_name, 'rb')\n",
        "# Create a text  / plain message\n",
        "# msg = MIMEText('')\n",
        "msg = MIMEMultipart() # object\n",
        "\n",
        "# msg.add_header('Content-Disposition', 'attachment', filename='empty.txt')\n",
        "msg['Subject']= SUBJECT\n",
        "msg['From'] = FROM\n",
        "msg['To'] = TO\n",
        "msg.attach(MIMEText(content,'html'))\n",
        "# fp.close()\n",
        "\n",
        "print('Initialising server ...')\n",
        "\n",
        "server = smtplib.SMTP(SERVER, PORT)\n",
        "# server = smtplib.SMTP SSL('smtp.gmail.com', 465)\n",
        "server.set_debuglevel(1) # show error message if server is not successful\n",
        "server.ehlo() # initiate the transaction with the server\n",
        "server.starttls() # start a (secured) connection\n",
        "# server.ehlo\n",
        "server.login(FROM, PASS) # login as the sender of the email\n",
        "server.sendmail(FROM, TO, msg.as_string()) # send the email sending the message as a string\n",
        "\n",
        "# Source: https://stackoverflow.com/questions/54657006/smtpauthenticationerror-5-7-14-please-log-n5-7-14-in-via-your-web-browser\n",
        "# The solution to this seems to be:\n",
        "# (1) Confirm that recent logins really were from you on the Google account security page.\n",
        "# (2) Unlock the account by entering a captcha.\n",
        "# Doing this should unlock the account, though it can take up to an hour to take effect.\n",
        "\n",
        "\n",
        "print('Email sent ...')\n",
        "\n",
        "server.quit() # quit the server and port created earlier"
      ],
      "execution_count": null,
      "outputs": [
        {
          "output_type": "stream",
          "name": "stdout",
          "text": [
            "Composing email ...\n",
            "Initialising server ...\n"
          ]
        },
        {
          "output_type": "stream",
          "name": "stderr",
          "text": [
            "send: 'ehlo [172.28.0.2]\\r\\n'\n",
            "reply: b'250-smtp.gmail.com at your service, [34.75.248.81]\\r\\n'\n",
            "reply: b'250-SIZE 35882577\\r\\n'\n",
            "reply: b'250-8BITMIME\\r\\n'\n",
            "reply: b'250-STARTTLS\\r\\n'\n",
            "reply: b'250-ENHANCEDSTATUSCODES\\r\\n'\n",
            "reply: b'250-PIPELINING\\r\\n'\n",
            "reply: b'250-CHUNKING\\r\\n'\n",
            "reply: b'250 SMTPUTF8\\r\\n'\n",
            "reply: retcode (250); Msg: b'smtp.gmail.com at your service, [34.75.248.81]\\nSIZE 35882577\\n8BITMIME\\nSTARTTLS\\nENHANCEDSTATUSCODES\\nPIPELINING\\nCHUNKING\\nSMTPUTF8'\n",
            "send: 'STARTTLS\\r\\n'\n",
            "reply: b'220 2.0.0 Ready to start TLS\\r\\n'\n",
            "reply: retcode (220); Msg: b'2.0.0 Ready to start TLS'\n",
            "send: 'ehlo [172.28.0.2]\\r\\n'\n",
            "reply: b'250-smtp.gmail.com at your service, [34.75.248.81]\\r\\n'\n",
            "reply: b'250-SIZE 35882577\\r\\n'\n",
            "reply: b'250-8BITMIME\\r\\n'\n",
            "reply: b'250-AUTH LOGIN PLAIN XOAUTH2 PLAIN-CLIENTTOKEN OAUTHBEARER XOAUTH\\r\\n'\n",
            "reply: b'250-ENHANCEDSTATUSCODES\\r\\n'\n",
            "reply: b'250-PIPELINING\\r\\n'\n",
            "reply: b'250-CHUNKING\\r\\n'\n",
            "reply: b'250 SMTPUTF8\\r\\n'\n",
            "reply: retcode (250); Msg: b'smtp.gmail.com at your service, [34.75.248.81]\\nSIZE 35882577\\n8BITMIME\\nAUTH LOGIN PLAIN XOAUTH2 PLAIN-CLIENTTOKEN OAUTHBEARER XOAUTH\\nENHANCEDSTATUSCODES\\nPIPELINING\\nCHUNKING\\nSMTPUTF8'\n",
            "send: 'AUTH PLAIN AHJhbmRvbW5hcmZAZ21haWwuY29tAGtvbG1vZ29yb3Y3\\r\\n'\n",
            "reply: b'235 2.7.0 Accepted\\r\\n'\n",
            "reply: retcode (235); Msg: b'2.7.0 Accepted'\n",
            "send: 'mail FROM:<randomnarf@gmail.com> size=13481\\r\\n'\n",
            "reply: b'250 2.1.0 OK r22sm3467651uaf.16 - gsmtp\\r\\n'\n",
            "reply: retcode (250); Msg: b'2.1.0 OK r22sm3467651uaf.16 - gsmtp'\n",
            "send: 'rcpt TO:<hiltonnetta@gmail.com>\\r\\n'\n",
            "reply: b'250 2.1.5 OK r22sm3467651uaf.16 - gsmtp\\r\\n'\n",
            "reply: retcode (250); Msg: b'2.1.5 OK r22sm3467651uaf.16 - gsmtp'\n",
            "send: 'data\\r\\n'\n",
            "reply: b'354  Go ahead r22sm3467651uaf.16 - gsmtp\\r\\n'\n",
            "reply: retcode (354); Msg: b'Go ahead r22sm3467651uaf.16 - gsmtp'\n",
            "data: (354, b'Go ahead r22sm3467651uaf.16 - gsmtp')\n",
            "send: b'Content-Type: multipart/mixed; boundary=\"===============3524710337268254982==\"\\r\\nMIME-Version: 1.0\\r\\nSubject: Top News Stories Hacker News (Automated Email) 3-10-2021\\r\\nFrom: randomnarf@gmail.com\\r\\nTo: hiltonnetta@gmail.com\\r\\n\\r\\n--===============3524710337268254982==\\r\\nContent-Type: text/html; charset=\"utf-8\"\\r\\nMIME-Version: 1.0\\r\\nContent-Transfer-Encoding: base64\\r\\n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\\r\\nPjxicj4tLS0tLTxicj48YnI+PGJyPkVuZCBvZiBNZXNzYWdl\\r\\n\\r\\n--===============3524710337268254982==--\\r\\n.\\r\\n'\n"
          ]
        },
        {
          "output_type": "stream",
          "name": "stdout",
          "text": [
            "Email sent ...\n"
          ]
        },
        {
          "output_type": "stream",
          "name": "stderr",
          "text": [
            "reply: b'250 2.0.0 OK  1633286940 r22sm3467651uaf.16 - gsmtp\\r\\n'\n",
            "reply: retcode (250); Msg: b'2.0.0 OK  1633286940 r22sm3467651uaf.16 - gsmtp'\n",
            "data: (250, b'2.0.0 OK  1633286940 r22sm3467651uaf.16 - gsmtp')\n",
            "send: 'quit\\r\\n'\n",
            "reply: b'221 2.0.0 closing connection r22sm3467651uaf.16 - gsmtp\\r\\n'\n",
            "reply: retcode (221); Msg: b'2.0.0 closing connection r22sm3467651uaf.16 - gsmtp'\n"
          ]
        },
        {
          "output_type": "execute_result",
          "data": {
            "text/plain": [
              "(221, b'2.0.0 closing connection r22sm3467651uaf.16 - gsmtp')"
            ]
          },
          "metadata": {},
          "execution_count": 15
        }
      ]
    }
  ]
}